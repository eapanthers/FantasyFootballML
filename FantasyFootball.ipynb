{
 "cells": [
  {
   "cell_type": "code",
   "execution_count": 18,
   "metadata": {},
   "outputs": [],
   "source": [
    "%matplotlib inline\n",
    "\n",
    "import warnings\n",
    "\n",
    "import pandas as pd\n",
    "import numpy as np\n",
    "import matplotlib.pyplot as plt\n",
    "from sklearn.model_selection import train_test_split\n",
    "from sklearn import linear_model\n",
    "from sklearn.svm import SVR\n",
    "from sklearn.metrics import mean_squared_error, r2_score, accuracy_score\n",
    "from scipy.stats import linregress\n",
    "from scipy.stats import norm\n",
    "from operator import itemgetter\n",
    "from sklearn.model_selection import cross_val_score\n",
    "from sklearn.neighbors import KNeighborsClassifier\n",
    "from sklearn.neighbors import NearestNeighbors\n",
    "from sklearn.preprocessing import StandardScaler\n",
    "from sklearn import preprocessing\n",
    "from sklearn import utils"
   ]
  },
  {
   "cell_type": "code",
   "execution_count": 19,
   "metadata": {},
   "outputs": [],
   "source": [
    "dfPrevRBs = pd.read_csv('final-csv-data/FantasyPrev-RBs.csv')\n",
    "dfCurrRBs = pd.read_csv('final-csv-data/FantasyCurr-RBs.csv')"
   ]
  },
  {
   "cell_type": "code",
   "execution_count": 20,
   "metadata": {},
   "outputs": [
    {
     "data": {
      "text/html": [
       "<div>\n",
       "<style scoped>\n",
       "    .dataframe tbody tr th:only-of-type {\n",
       "        vertical-align: middle;\n",
       "    }\n",
       "\n",
       "    .dataframe tbody tr th {\n",
       "        vertical-align: top;\n",
       "    }\n",
       "\n",
       "    .dataframe thead th {\n",
       "        text-align: right;\n",
       "    }\n",
       "</style>\n",
       "<table border=\"1\" class=\"dataframe\">\n",
       "  <thead>\n",
       "    <tr style=\"text-align: right;\">\n",
       "      <th></th>\n",
       "      <th>Player</th>\n",
       "      <th>PrevADP</th>\n",
       "      <th>PrevFPoints</th>\n",
       "      <th>PrevFPPG</th>\n",
       "      <th>AgeAtDraft</th>\n",
       "      <th>2YRFPoints</th>\n",
       "      <th>2YRFPPG</th>\n",
       "      <th>2YRAvg</th>\n",
       "      <th>FPoints</th>\n",
       "      <th>FPointsPerGame</th>\n",
       "      <th>NYADP</th>\n",
       "      <th>BarginVal</th>\n",
       "    </tr>\n",
       "  </thead>\n",
       "  <tbody>\n",
       "    <tr>\n",
       "      <th>0</th>\n",
       "      <td>David Johnson</td>\n",
       "      <td>1</td>\n",
       "      <td>328</td>\n",
       "      <td>20.5</td>\n",
       "      <td>25</td>\n",
       "      <td>174</td>\n",
       "      <td>10.9</td>\n",
       "      <td>251.0</td>\n",
       "      <td>7</td>\n",
       "      <td>14.0</td>\n",
       "      <td>3</td>\n",
       "      <td>0.9800</td>\n",
       "    </tr>\n",
       "    <tr>\n",
       "      <th>1</th>\n",
       "      <td>LeVeon Bell</td>\n",
       "      <td>2</td>\n",
       "      <td>242</td>\n",
       "      <td>20.2</td>\n",
       "      <td>24</td>\n",
       "      <td>87</td>\n",
       "      <td>14.5</td>\n",
       "      <td>164.5</td>\n",
       "      <td>259</td>\n",
       "      <td>17.3</td>\n",
       "      <td>1</td>\n",
       "      <td>63.3526</td>\n",
       "    </tr>\n",
       "    <tr>\n",
       "      <th>2</th>\n",
       "      <td>Ezekiel Elliot</td>\n",
       "      <td>3</td>\n",
       "      <td>293</td>\n",
       "      <td>19.5</td>\n",
       "      <td>21</td>\n",
       "      <td>150</td>\n",
       "      <td>10.0</td>\n",
       "      <td>221.5</td>\n",
       "      <td>177</td>\n",
       "      <td>17.7</td>\n",
       "      <td>4</td>\n",
       "      <td>54.2682</td>\n",
       "    </tr>\n",
       "    <tr>\n",
       "      <th>3</th>\n",
       "      <td>LeSean McCoy</td>\n",
       "      <td>8</td>\n",
       "      <td>248</td>\n",
       "      <td>16.5</td>\n",
       "      <td>28</td>\n",
       "      <td>147</td>\n",
       "      <td>12.3</td>\n",
       "      <td>197.5</td>\n",
       "      <td>205</td>\n",
       "      <td>12.8</td>\n",
       "      <td>36</td>\n",
       "      <td>74.2400</td>\n",
       "    </tr>\n",
       "    <tr>\n",
       "      <th>4</th>\n",
       "      <td>Devonta Freeman</td>\n",
       "      <td>10</td>\n",
       "      <td>232</td>\n",
       "      <td>14.5</td>\n",
       "      <td>24</td>\n",
       "      <td>243</td>\n",
       "      <td>16.2</td>\n",
       "      <td>237.5</td>\n",
       "      <td>164</td>\n",
       "      <td>11.7</td>\n",
       "      <td>17</td>\n",
       "      <td>60.7230</td>\n",
       "    </tr>\n",
       "  </tbody>\n",
       "</table>\n",
       "</div>"
      ],
      "text/plain": [
       "            Player  PrevADP  PrevFPoints  PrevFPPG  AgeAtDraft  2YRFPoints  \\\n",
       "0    David Johnson        1          328      20.5          25         174   \n",
       "1      LeVeon Bell        2          242      20.2          24          87   \n",
       "2   Ezekiel Elliot        3          293      19.5          21         150   \n",
       "3     LeSean McCoy        8          248      16.5          28         147   \n",
       "4  Devonta Freeman       10          232      14.5          24         243   \n",
       "\n",
       "   2YRFPPG  2YRAvg  FPoints  FPointsPerGame  NYADP  BarginVal  \n",
       "0     10.9   251.0        7            14.0      3     0.9800  \n",
       "1     14.5   164.5      259            17.3      1    63.3526  \n",
       "2     10.0   221.5      177            17.7      4    54.2682  \n",
       "3     12.3   197.5      205            12.8     36    74.2400  \n",
       "4     16.2   237.5      164            11.7     17    60.7230  "
      ]
     },
     "execution_count": 20,
     "metadata": {},
     "output_type": "execute_result"
    }
   ],
   "source": [
    "dfPrevRBs.head()"
   ]
  },
  {
   "cell_type": "code",
   "execution_count": 21,
   "metadata": {},
   "outputs": [],
   "source": [
    "prevRBTest = dfPrevRBs.iloc[:, [1,2,3,4,5,6,7,8,9,10,11]]\n",
    "currRBTest = dfCurrRBs.iloc[:, [1,2,3,4,5,6,7]]\n",
    "prevRBNames = dfPrevRBs.iloc[:,0]\n",
    "currRBNames = dfCurrRBs.iloc[:,0]"
   ]
  },
  {
   "cell_type": "code",
   "execution_count": 22,
   "metadata": {},
   "outputs": [
    {
     "data": {
      "text/html": [
       "<div>\n",
       "<style scoped>\n",
       "    .dataframe tbody tr th:only-of-type {\n",
       "        vertical-align: middle;\n",
       "    }\n",
       "\n",
       "    .dataframe tbody tr th {\n",
       "        vertical-align: top;\n",
       "    }\n",
       "\n",
       "    .dataframe thead th {\n",
       "        text-align: right;\n",
       "    }\n",
       "</style>\n",
       "<table border=\"1\" class=\"dataframe\">\n",
       "  <thead>\n",
       "    <tr style=\"text-align: right;\">\n",
       "      <th></th>\n",
       "      <th>PrevADP</th>\n",
       "      <th>PrevFPoints</th>\n",
       "      <th>PrevFPPG</th>\n",
       "      <th>AgeAtDraft</th>\n",
       "      <th>2YRFPoints</th>\n",
       "      <th>2YRFPPG</th>\n",
       "      <th>2YRAvg</th>\n",
       "      <th>FPoints</th>\n",
       "      <th>FPointsPerGame</th>\n",
       "      <th>NYADP</th>\n",
       "      <th>BarginVal</th>\n",
       "    </tr>\n",
       "  </thead>\n",
       "  <tbody>\n",
       "    <tr>\n",
       "      <th>0</th>\n",
       "      <td>1</td>\n",
       "      <td>328</td>\n",
       "      <td>20.5</td>\n",
       "      <td>25</td>\n",
       "      <td>174</td>\n",
       "      <td>10.9</td>\n",
       "      <td>251.0</td>\n",
       "      <td>7</td>\n",
       "      <td>14.0</td>\n",
       "      <td>3</td>\n",
       "      <td>0.9800</td>\n",
       "    </tr>\n",
       "    <tr>\n",
       "      <th>1</th>\n",
       "      <td>2</td>\n",
       "      <td>242</td>\n",
       "      <td>20.2</td>\n",
       "      <td>24</td>\n",
       "      <td>87</td>\n",
       "      <td>14.5</td>\n",
       "      <td>164.5</td>\n",
       "      <td>259</td>\n",
       "      <td>17.3</td>\n",
       "      <td>1</td>\n",
       "      <td>63.3526</td>\n",
       "    </tr>\n",
       "    <tr>\n",
       "      <th>2</th>\n",
       "      <td>3</td>\n",
       "      <td>293</td>\n",
       "      <td>19.5</td>\n",
       "      <td>21</td>\n",
       "      <td>150</td>\n",
       "      <td>10.0</td>\n",
       "      <td>221.5</td>\n",
       "      <td>177</td>\n",
       "      <td>17.7</td>\n",
       "      <td>4</td>\n",
       "      <td>54.2682</td>\n",
       "    </tr>\n",
       "    <tr>\n",
       "      <th>3</th>\n",
       "      <td>8</td>\n",
       "      <td>248</td>\n",
       "      <td>16.5</td>\n",
       "      <td>28</td>\n",
       "      <td>147</td>\n",
       "      <td>12.3</td>\n",
       "      <td>197.5</td>\n",
       "      <td>205</td>\n",
       "      <td>12.8</td>\n",
       "      <td>36</td>\n",
       "      <td>74.2400</td>\n",
       "    </tr>\n",
       "    <tr>\n",
       "      <th>4</th>\n",
       "      <td>10</td>\n",
       "      <td>232</td>\n",
       "      <td>14.5</td>\n",
       "      <td>24</td>\n",
       "      <td>243</td>\n",
       "      <td>16.2</td>\n",
       "      <td>237.5</td>\n",
       "      <td>164</td>\n",
       "      <td>11.7</td>\n",
       "      <td>17</td>\n",
       "      <td>60.7230</td>\n",
       "    </tr>\n",
       "  </tbody>\n",
       "</table>\n",
       "</div>"
      ],
      "text/plain": [
       "   PrevADP  PrevFPoints  PrevFPPG  AgeAtDraft  2YRFPoints  2YRFPPG  2YRAvg  \\\n",
       "0        1          328      20.5          25         174     10.9   251.0   \n",
       "1        2          242      20.2          24          87     14.5   164.5   \n",
       "2        3          293      19.5          21         150     10.0   221.5   \n",
       "3        8          248      16.5          28         147     12.3   197.5   \n",
       "4       10          232      14.5          24         243     16.2   237.5   \n",
       "\n",
       "   FPoints  FPointsPerGame  NYADP  BarginVal  \n",
       "0        7            14.0      3     0.9800  \n",
       "1      259            17.3      1    63.3526  \n",
       "2      177            17.7      4    54.2682  \n",
       "3      205            12.8     36    74.2400  \n",
       "4      164            11.7     17    60.7230  "
      ]
     },
     "execution_count": 22,
     "metadata": {},
     "output_type": "execute_result"
    }
   ],
   "source": [
    "prevRBTest.head()"
   ]
  },
  {
   "cell_type": "code",
   "execution_count": 23,
   "metadata": {},
   "outputs": [
    {
     "name": "stdout",
     "output_type": "stream",
     "text": [
      "Previous Points and Next year Points: slope = 1.4919544846282617 , intercept = 47.24046007018079 , r_value = 0.517064540678081 , p_value = 0.00014235058384243706 , std_err = 0.36025371290798286\n"
     ]
    },
    {
     "data": {
      "text/plain": [
       "Text(0.5,1,'r = 0.517, p = 0.0, rsquared = 0.267')"
      ]
     },
     "execution_count": 23,
     "metadata": {},
     "output_type": "execute_result"
    },
    {
     "data": {
      "image/png": "[encoded data removed]",
      "text/plain": [
       "<Figure size 576x396 with 1 Axes>"
      ]
     },
     "metadata": {},
     "output_type": "display_data"
    }
   ],
   "source": [
    "plt.style.use('seaborn')\n",
    "fantRBs, ax = plt.subplots()\n",
    "\n",
    "ax.scatter(dfPrevRBs['PrevADP'], dfPrevRBs['NYADP'], color = 'orange', label = \"Running backs\")\n",
    "ax.axvline(x = np.mean(dfPrevRBs['PrevADP']), color = 'black')\n",
    "ax.axhline(y = np.mean(dfPrevRBs['NYADP']), label = \"Average\", color = 'black')\n",
    "fantRBs.suptitle(\"Correlation between previous points and next year points\", weight = 'bold', size = 18, y = 1.05)\n",
    "ax.set_xlabel(\"Previous points\")\n",
    "ax.set_ylabel(\"Next year points\")\n",
    "\n",
    "ax.plot(np.unique(dfPrevRBs['PrevADP']), np.poly1d(np.polyfit(dfPrevRBs['PrevADP'], dfPrevRBs['NYADP'],1))(np.unique(dfPrevRBs['PrevADP'])))\n",
    "\n",
    "ax.legend(loc='best', prop={'size':9, \"family\":\"DejaVu Sans\"})\n",
    "\n",
    "slope, intercept, r_value, p_value, std_err = linregress(dfPrevRBs['PrevADP'], dfPrevRBs['NYADP'])\n",
    "print(\"Previous Points and Next year Points: slope =\", slope, \", intercept =\", intercept, \", r_value =\", r_value, \", p_value =\", p_value, \", std_err =\", std_err)\n",
    "\n",
    "rsquared = r_value**2\n",
    "rpString = \"r = \" + str(round(r_value,3)) + \", p = \" + str(round(p_value,3))+ \", rsquared = \" + str(round(rsquared, 3))\n",
    "\n",
    "ax.set_title(\"%s\"%rpString, size = 12, fontname = 'DejaVu Sans')\n",
    "#yardsAllRBs.savefig('fantasyGraphs/CollegetoNFL-correlationDepth2Points.png', dpi = 400, bbox_inches = 'tight')"
   ]
  },
  {
   "cell_type": "code",
   "execution_count": 24,
   "metadata": {},
   "outputs": [
    {
     "name": "stdout",
     "output_type": "stream",
     "text": [
      "0.2880818201648026 PrevADP FPoints\n",
      "0.46958756531826357 PrevADP FPointsPerGame\n",
      "0.2673557392266349 PrevADP NYADP\n",
      "0.030521293468486303 PrevADP BarginVal\n",
      "0.1755642865835761 PrevFPoints FPoints\n",
      "0.3491513695240906 PrevFPoints FPointsPerGame\n",
      "0.24334757962416378 PrevFPoints NYADP\n",
      "0.030674417897303574 PrevFPoints BarginVal\n",
      "0.14598536076057472 PrevFPPG FPoints\n",
      "0.26523740065865403 PrevFPPG FPointsPerGame\n",
      "0.13803181094665573 PrevFPPG NYADP\n",
      "0.006941344486087189 PrevFPPG BarginVal\n",
      "0.03586023732520718 AgeAtDraft FPoints\n",
      "0.06876707495612391 AgeAtDraft FPointsPerGame\n",
      "0.17489173259328356 AgeAtDraft NYADP\n",
      "0.019997652351729546 AgeAtDraft BarginVal\n",
      "0.03590828237905986 2YRFPoints FPoints\n",
      "0.059033586940112764 2YRFPoints FPointsPerGame\n",
      "0.02136897313457149 2YRFPoints NYADP\n",
      "0.03307542655202098 2YRFPoints BarginVal\n",
      "0.14288116655401523 2YRFPPG FPoints\n",
      "0.16924845699126992 2YRFPPG FPointsPerGame\n",
      "0.048489928412744694 2YRFPPG NYADP\n",
      "0.06942553280718422 2YRFPPG BarginVal\n",
      "0.16438488411689267 2YRAvg FPoints\n",
      "0.31160247588605383 2YRAvg FPointsPerGame\n",
      "0.18867682908549285 2YRAvg NYADP\n",
      "0.05144907574347388 2YRAvg BarginVal\n"
     ]
    }
   ],
   "source": [
    "colArr = dfPrevRBs.iloc[:,[1,2,3,4,5,6,7]]\n",
    "fyArr = dfPrevRBs.iloc[:, [8,9,10,11]]\n",
    "rSquareArr = []\n",
    "colUse = []\n",
    "fyUse = []\n",
    "for i in colArr:\n",
    "    for j in fyArr:\n",
    "        \n",
    "        #plt.style.use('dark_background')\n",
    "\n",
    "        #yardsAllRBs, ax = plt.subplots()\n",
    "        \n",
    "        slope,intercept, r_value, p_value, std_err = linregress(dfPrevRBs[i], dfPrevRBs[j])\n",
    "        rsquaredArr1 = r_value**2\n",
    "        rSquareArr.append(rsquaredArr1)\n",
    "        colUse.append(i)\n",
    "        fyUse.append(j)\n",
    "\n",
    "        #ax.scatter(dfFYRBs[i], dfFYRBs[j], color = 'orange', label = \"Running backs\")\n",
    "        #ax.axvline(x = np.mean(dfFYRBs[i]), color = 'white')\n",
    "        #ax.axhline(y = np.mean(dfFYRBs[j]), label = \"Average\", color = 'white')\n",
    "        #yardsAllRBs.suptitle(\"Correlation between \"+i+\" and \"+j, weight = 'bold', size = 18, y = 1.05)\n",
    "        #ax.set_xlabel(i)\n",
    "        #ax.set_ylabel(j)\n",
    "\n",
    "        #ax.plot(np.unique(dfFYRBs[i]), np.poly1d(np.polyfit(dfFYRBs[i], dfFYRBs[j],1))(np.unique(dfFYRBs[i])))\n",
    "\n",
    "        #ax.legend(loc='best', prop={'size':9, \"family\":\"DejaVu Sans\"})\n",
    "        #rpString = \"r = \" + str(round(r_value,3)) + \", p = \" + str(round(p_value,3))+ \", rsquared = \" + str(round(rsquaredArr1, 3))\n",
    "\n",
    "        #ax.set_title(\"%s\"%rpString, size = 12, fontname = 'DejaVu Sans')\n",
    "        #yardsAllRBs.savefig('newGraphs/CollegetoNFL-correlation'+i+'to'+j+'.png', dpi = 400, bbox_inches = 'tight')\n",
    "for n,m,f in zip(rSquareArr,colUse,fyUse):\n",
    "    print(n,m,f)\n"
   ]
  },
  {
   "cell_type": "code",
   "execution_count": 25,
   "metadata": {},
   "outputs": [
    {
     "name": "stdout",
     "output_type": "stream",
     "text": [
      "[[0.006941344486087189, 'PrevFPPG', 'BarginVal'], [0.019997652351729546, 'AgeAtDraft', 'BarginVal'], [0.02136897313457149, '2YRFPoints', 'NYADP'], [0.030521293468486303, 'PrevADP', 'BarginVal'], [0.030674417897303574, 'PrevFPoints', 'BarginVal'], [0.03307542655202098, '2YRFPoints', 'BarginVal'], [0.03586023732520718, 'AgeAtDraft', 'FPoints'], [0.03590828237905986, '2YRFPoints', 'FPoints'], [0.048489928412744694, '2YRFPPG', 'NYADP'], [0.05144907574347388, '2YRAvg', 'BarginVal'], [0.059033586940112764, '2YRFPoints', 'FPointsPerGame'], [0.06876707495612391, 'AgeAtDraft', 'FPointsPerGame'], [0.06942553280718422, '2YRFPPG', 'BarginVal'], [0.13803181094665573, 'PrevFPPG', 'NYADP'], [0.14288116655401523, '2YRFPPG', 'FPoints'], [0.14598536076057472, 'PrevFPPG', 'FPoints'], [0.16438488411689267, '2YRAvg', 'FPoints'], [0.16924845699126992, '2YRFPPG', 'FPointsPerGame'], [0.17489173259328356, 'AgeAtDraft', 'NYADP'], [0.1755642865835761, 'PrevFPoints', 'FPoints'], [0.18867682908549285, '2YRAvg', 'NYADP'], [0.24334757962416378, 'PrevFPoints', 'NYADP'], [0.26523740065865403, 'PrevFPPG', 'FPointsPerGame'], [0.2673557392266349, 'PrevADP', 'NYADP'], [0.2880818201648026, 'PrevADP', 'FPoints'], [0.31160247588605383, '2YRAvg', 'FPointsPerGame'], [0.3491513695240906, 'PrevFPoints', 'FPointsPerGame'], [0.46958756531826357, 'PrevADP', 'FPointsPerGame']]\n"
     ]
    },
    {
     "data": {
      "image/png": "[encoded data removed]",
      "text/plain": [
       "<Figure size 921.6x633.6 with 1 Axes>"
      ]
     },
     "metadata": {},
     "output_type": "display_data"
    }
   ],
   "source": [
    "plt.style.use('seaborn-poster')\n",
    "\n",
    "compareStats, ax = plt.subplots()\n",
    "\n",
    "statsGraph = []\n",
    "for i in rSquareArr:\n",
    "    statsGraph.append(float(i))\n",
    "combinedStats = [[i,j,k] for i,j,k in zip(statsGraph,colUse,fyUse)]\n",
    "\n",
    "\n",
    "sortedRSquared = sorted(combinedStats, key = itemgetter(0))\n",
    "print(sortedRSquared)\n",
    "\n",
    "sortedRSquaredData = [row[0] for row in sortedRSquared]\n",
    "y_pos = np.arange(len(sortedRSquaredData))\n",
    "\n",
    "colorList = []\n",
    "\n",
    "for i in sortedRSquaredData:\n",
    "    if i < 0.1:\n",
    "        colorList.append('red')\n",
    "    elif i > 0.1:\n",
    "        colorList.append('green')\n",
    "        \n",
    "ax.barh(y_pos,sortedRSquaredData,color = colorList, edgeColor = 'white', linewidth=1)\n",
    "\n",
    "labels = [row[1]+' '+row[2] for row in sortedRSquared]\n",
    "\n",
    "rects = ax.patches\n",
    "for rect, label in zip(rects,labels):\n",
    "    height = rect.get_y()\n",
    "    if rect.get_y() < 11:\n",
    "        ax.text(rect.get_x() + .05, height, label, ha='left', fontsize = 'xx-small', va='bottom', color = 'black')\n",
    "    elif rect.get_y() >=11:\n",
    "        ax.text(rect.get_x() - .05,height,label,ha='right',va='bottom',fontsize = 'xx-small',color='black')\n",
    "\n",
    "compareStats.suptitle(\"R squared values for various statistical comparisons\", weight = 'bold', size = 18, y = 1.005)\n",
    "ax.yaxis.set_visible(False)\n",
    "ax.set_xlabel(\"R squared value (larger is better)\")\n",
    "ax.grid(alpha = .5)\n",
    "compareStats.savefig('fantasyGraphs/RBRSquared.png', dpi = 400, bbox_inches = 'tight')"
   ]
  },
  {
   "cell_type": "code",
   "execution_count": 62,
   "metadata": {},
   "outputs": [],
   "source": [
    "train, test = train_test_split(dfPrevRBs, test_size = 0.25, random_state = 99)\n",
    "\n",
    "xtrainRB = train[['PrevADP','PrevFPoints','PrevFPPG','AgeAtDraft','2YRFPoints','2YRFPPG','2YRAvg']]\n",
    "ytrainRB = train[['NYADP']].astype(int)\n",
    "\n",
    "xtestRB = test[['PrevADP','PrevFPoints','PrevFPPG','AgeAtDraft','2YRFPoints','2YRFPPG','2YRAvg']]\n",
    "ytestRB = test[['NYADP']].astype(int)\n",
    "\n",
    "#knn = KNeighborsClassifier(n_neighbors=5)\n",
    "#knn.fit(xtrainRB,ytrainRB)\n",
    "#knn.score(xtestRB,ytestRB)\n",
    "#print(knn.kneighbors(xtrain, return_distance=False))"
   ]
  },
  {
   "cell_type": "code",
   "execution_count": 63,
   "metadata": {},
   "outputs": [
    {
     "name": "stdout",
     "output_type": "stream",
     "text": [
      "Mean squared error: 5795.974\n",
      "Variance score: 0.392\n",
      "Accuracy (cross validation score): 0.06 (+/- 1.67)\n",
      "2.5517823078805395\n"
     ]
    }
   ],
   "source": [
    "linReg = linear_model.LinearRegression(fit_intercept = False)\n",
    "linReg.fit(xtrainRB,ytrainRB)\n",
    "\n",
    "y_predLinRB = linReg.predict(xtestRB)\n",
    "linR2RB = abs(1/(r2_score(ytestRB,y_predLinRB)))\n",
    "print(\"Mean squared error: %.3f\"%mean_squared_error(ytestRB, y_predLinRB))\n",
    "print(\"Variance score: %.3f\"%r2_score(ytestRB,y_predLinRB))\n",
    "\n",
    "cvScoreLin = cross_val_score(linReg,xtestRB,ytestRB,cv=4,scoring='explained_variance')\n",
    "print(\"Accuracy (cross validation score): %0.2f (+/- %0.2f)\"%(cvScoreLin.mean(), cvScoreLin.std()*2))\n",
    "print(linR2RB)"
   ]
  },
  {
   "cell_type": "code",
   "execution_count": 64,
   "metadata": {},
   "outputs": [
    {
     "name": "stdout",
     "output_type": "stream",
     "text": [
      "Mean squared error: 5748.989\n",
      "Variance score: 0.397\n",
      "Accuracy (cross validation score): 0.57 (+/- 0.77)\n",
      "2.520080507739657\n"
     ]
    }
   ],
   "source": [
    "ridgeReg = linear_model.Ridge(alpha=5, fit_intercept = False)\n",
    "ridgeReg.fit(xtrainRB,ytrainRB)\n",
    "\n",
    "y_predRidgeRB = ridgeReg.predict(xtestRB)\n",
    "ridgeR2RB = abs(1/(r2_score(ytestRB,y_predRidgeRB)))\n",
    "print(\"Mean squared error: %.3f\"%mean_squared_error(ytestRB, y_predRidgeRB))\n",
    "print(\"Variance score: %.3f\"%r2_score(ytestRB,y_predRidgeRB))\n",
    "\n",
    "cvScoreRidge = cross_val_score(ridgeReg,xtestRB,ytestRB,cv=4,scoring='explained_variance')\n",
    "print(\"Accuracy (cross validation score): %0.2f (+/- %0.2f)\"%(cvScoreRidge.mean(), cvScoreRidge.std()*2))\n",
    "print(ridgeR2RB)"
   ]
  },
  {
   "cell_type": "code",
   "execution_count": 65,
   "metadata": {},
   "outputs": [
    {
     "name": "stdout",
     "output_type": "stream",
     "text": [
      "Mean squared error: 5517.136\n",
      "Variance score: 0.421\n",
      "Accuracy (cross validation score): 0.52 (+/- 0.73)\n",
      "2.374513714911851\n"
     ]
    }
   ],
   "source": [
    "lassoReg = linear_model.Lasso(alpha = 5, tol = 0.1, max_iter = 100000, fit_intercept = False)\n",
    "lassoReg.fit(xtrainRB,ytrainRB)\n",
    "\n",
    "y_predLassoRB = lassoReg.predict(xtestRB)\n",
    "lassoR2RB = abs(1/(r2_score(ytestRB,y_predLassoRB)))\n",
    "print(\"Mean squared error: %.3f\"%mean_squared_error(ytestRB, y_predLassoRB))\n",
    "print(\"Variance score: %.3f\"%r2_score(ytestRB,y_predLassoRB))\n",
    "\n",
    "cvScoreLasso = cross_val_score(lassoReg,xtestRB,ytestRB,cv=4,scoring='explained_variance')\n",
    "print(\"Accuracy (cross validation score): %0.2f (+/- %0.2f)\"%(cvScoreLasso.mean(), cvScoreLasso.std()*2))\n",
    "\n",
    "print(lassoR2RB)"
   ]
  },
  {
   "cell_type": "code",
   "execution_count": 66,
   "metadata": {},
   "outputs": [
    {
     "name": "stdout",
     "output_type": "stream",
     "text": [
      "Mean squared error: 45169.615\n",
      "Variance score: -3.739\n"
     ]
    },
    {
     "name": "stderr",
     "output_type": "stream",
     "text": [
      "C:\\Users\\Kids\\Anaconda3\\lib\\site-packages\\sklearn\\utils\\validation.py:578: DataConversionWarning: A column-vector y was passed when a 1d array was expected. Please change the shape of y to (n_samples, ), for example using ravel().\n",
      "  y = column_or_1d(y, warn=True)\n"
     ]
    }
   ],
   "source": [
    "logReg = linear_model.LogisticRegression(fit_intercept = False, dual=False)\n",
    "logReg.fit(xtrainRB,ytrainRB)\n",
    "\n",
    "y_predLogRB = logReg.predict(xtestRB)\n",
    "\n",
    "print(\"Mean squared error: %.3f\"%mean_squared_error(ytestRB, y_predLogRB))\n",
    "print(\"Variance score: %.3f\"%r2_score(ytestRB,y_predLogRB))"
   ]
  },
  {
   "cell_type": "code",
   "execution_count": 67,
   "metadata": {},
   "outputs": [
    {
     "name": "stdout",
     "output_type": "stream",
     "text": [
      "[10.95374281] LeVeon Bell\n",
      "[28.49507102] Todd Gurley\n",
      "[263.86159094] David Johnson\n",
      "[97.88017518] Ezekiel Elliot\n",
      "[75.61957959] Saquon Barkley\n",
      "[43.549577] Alvin Kamara\n",
      "[41.04766253] Kareem Hunt\n",
      "[85.91136961] Leonard Fournette\n",
      "[208.8279123] Dalvin Cook\n",
      "[33.65222769] Melvin Gordon\n",
      "[105.52045441] Devonta Freeman\n",
      "[71.07613351] Jordan Howard\n",
      "[78.28669459] Christian McCaffery\n",
      "[103.48480358] LeSean McCoy\n",
      "[131.49301148] Jerick McKinnon\n",
      "[109.55222154] Joe Mixon\n",
      "[140.50950746] Kenyan Drake\n",
      "[100.44003105] Royce Freeman\n",
      "[100.89640781] Derrius Guice\n",
      "[101.35278457] Ronald Jones\n",
      "[127.02229234] Alex Collins\n",
      "[102.26553809] Rashaad Penny\n",
      "[126.21831805] Derrick Henry\n",
      "[131.04555852] Jay Ajayi\n",
      "[201.51836248] Marshawn Lynch\n",
      "[106.82930571] Sony Michel\n",
      "[134.85796163] Isaiah Crowell\n",
      "[121.12944897] Lamar Miller\n",
      "[111.02753036] Tevin Coleman\n",
      "[137.91562721] Dion Lewis\n",
      "[221.70781138] Rex Burkhead\n",
      "[119.15147829] Kerryon Johnson\n",
      "[123.71492297] Carlos Hyde\n",
      "[142.49611374] Marlon Mack\n",
      "[131.53600715] Jamaal Williams\n",
      "[150.35618756] Duke Johnson\n",
      "[143.7017483] Tarik Cohen\n",
      "[133.37999044] Mark Ingram\n",
      "[125.0843762] Nick Chubb\n",
      "[222.59580385] Chris Thompson\n",
      "[234.42902777] Chris Carson\n",
      "[110.76281841] C.J. Anderson\n",
      "[219.87360887] Ty Montgomery\n",
      "[161.51785064] Giovani Bernard\n",
      "[155.07566899] Latavius Murray\n",
      "[132.38640439] Jordan Wilkins\n",
      "[212.82065618] James White\n",
      "[169.39290255] Theo Riddick\n",
      "[221.16341515] Devontae Booker\n"
     ]
    }
   ],
   "source": [
    "linear_rbs = linReg.predict(currRBTest)\n",
    "for i,j in zip(linear_rbs, currRBNames):\n",
    "    print(i,j)"
   ]
  },
  {
   "cell_type": "code",
   "execution_count": 68,
   "metadata": {},
   "outputs": [
    {
     "name": "stdout",
     "output_type": "stream",
     "text": [
      "[12.44128269] LeVeon Bell\n",
      "[27.34947298] Todd Gurley\n",
      "[261.72749549] David Johnson\n",
      "[97.35860478] Ezekiel Elliot\n",
      "[75.32829843] Saquon Barkley\n",
      "[43.17405357] Alvin Kamara\n",
      "[40.70976589] Kareem Hunt\n",
      "[85.08040331] Leonard Fournette\n",
      "[206.71322507] Dalvin Cook\n",
      "[34.6175545] Melvin Gordon\n",
      "[105.22157745] Devonta Freeman\n",
      "[71.30869107] Jordan Howard\n",
      "[78.31239385] Christian McCaffery\n",
      "[103.89465092] LeSean McCoy\n",
      "[131.11609942] Jerick McKinnon\n",
      "[109.60235741] Joe Mixon\n",
      "[139.68548976] Kenyan Drake\n",
      "[100.49203521] Royce Freeman\n",
      "[100.95892648] Derrius Guice\n",
      "[101.42581774] Ronald Jones\n",
      "[126.25039051] Alex Collins\n",
      "[102.35960028] Rashaad Penny\n",
      "[125.96314749] Derrick Henry\n",
      "[131.35843055] Jay Ajayi\n",
      "[199.93954011] Marshawn Lynch\n",
      "[107.02851294] Sony Michel\n",
      "[134.99472119] Isaiah Crowell\n",
      "[121.61029052] Lamar Miller\n",
      "[111.89999145] Tevin Coleman\n",
      "[138.36401961] Dion Lewis\n",
      "[220.46460845] Rex Burkhead\n",
      "[119.63457715] Kerryon Johnson\n",
      "[124.81604956] Carlos Hyde\n",
      "[143.1588586] Marlon Mack\n",
      "[132.30523116] Jamaal Williams\n",
      "[150.33670825] Duke Johnson\n",
      "[144.54804235] Tarik Cohen\n",
      "[133.72280587] Mark Ingram\n",
      "[125.70416362] Nick Chubb\n",
      "[221.68455656] Chris Thompson\n",
      "[234.11884932] Chris Carson\n",
      "[113.47624699] C.J. Anderson\n",
      "[219.44273182] Ty Montgomery\n",
      "[162.80738762] Giovani Bernard\n",
      "[156.26571765] Latavius Murray\n",
      "[133.17442389] Jordan Wilkins\n",
      "[213.35120939] James White\n",
      "[171.63674812] Theo Riddick\n",
      "[221.76776842] Devontae Booker\n"
     ]
    }
   ],
   "source": [
    "ridge_rbs = ridgeReg.predict(currRBTest)\n",
    "for i,j in zip(ridge_rbs, currRBNames):\n",
    "    print(i,j)"
   ]
  },
  {
   "cell_type": "code",
   "execution_count": 69,
   "metadata": {},
   "outputs": [
    {
     "name": "stdout",
     "output_type": "stream",
     "text": [
      "18.23287344469884 LeVeon Bell\n",
      "23.70343561211257 Todd Gurley\n",
      "256.2989357553648 David Johnson\n",
      "96.58825069123586 Ezekiel Elliot\n",
      "70.50536890480262 Saquon Barkley\n",
      "39.3668804825096 Alvin Kamara\n",
      "37.368452977250286 Kareem Hunt\n",
      "82.34164378994569 Leonard Fournette\n",
      "205.1389655956508 Dalvin Cook\n",
      "36.022720310012005 Melvin Gordon\n",
      "98.3676481002264 Devonta Freeman\n",
      "67.15213819280748 Jordan Howard\n",
      "74.45502490467001 Christian McCaffery\n",
      "99.07337733967782 LeSean McCoy\n",
      "125.67548209582543 Jerick McKinnon\n",
      "106.66198886809268 Joe Mixon\n",
      "134.6131299914661 Kenyan Drake\n",
      "98.1836295196122 Royce Freeman\n",
      "98.72886827974187 Derrius Guice\n",
      "99.27410703987155 Ronald Jones\n",
      "124.38728117628887 Alex Collins\n",
      "100.36458456013102 Rashaad Penny\n",
      "122.36185877477506 Derrick Henry\n",
      "128.1382710198108 Jay Ajayi\n",
      "193.21255727942804 Marshawn Lynch\n",
      "105.81697216142797 Sony Michel\n",
      "130.3424549470859 Isaiah Crowell\n",
      "120.36588546088086 Lamar Miller\n",
      "113.76685467922755 Tevin Coleman\n",
      "142.65983946317243 Dion Lewis\n",
      "218.4051448845356 Rex Burkhead\n",
      "120.53841868492978 Kerryon Johnson\n",
      "127.81092284421368 Carlos Hyde\n",
      "143.35537610747514 Marlon Mack\n",
      "132.9262904193917 Jamaal Williams\n",
      "149.3450400071073 Duke Johnson\n",
      "144.75994975468137 Tarik Cohen\n",
      "132.3263406218657 Mark Ingram\n",
      "127.62652256661582 Nick Chubb\n",
      "221.24463395219743 Chris Thompson\n",
      "236.90401196807522 Chris Carson\n",
      "129.32650922960028 C.J. Anderson\n",
      "221.34415157897172 Ty Montgomery\n",
      "168.967601429625 Giovani Bernard\n",
      "158.70381496430718 Latavius Murray\n",
      "136.350342728691 Jordan Wilkins\n",
      "214.95045711392464 James White\n",
      "182.6962137504304 Theo Riddick\n",
      "223.23219476962618 Devontae Booker\n"
     ]
    }
   ],
   "source": [
    "lasso_rbs = lassoReg.predict(currRBTest)\n",
    "for i,j in zip(lasso_rbs, currRBNames):\n",
    "    print(i,j)"
   ]
  },
  {
   "cell_type": "code",
   "execution_count": 70,
   "metadata": {},
   "outputs": [
    {
     "name": "stdout",
     "output_type": "stream",
     "text": [
      "17 LeVeon Bell\n",
      "4 Todd Gurley\n",
      "17 David Johnson\n",
      "17 Ezekiel Elliot\n",
      "36 Saquon Barkley\n",
      "59 Alvin Kamara\n",
      "59 Kareem Hunt\n",
      "300 Leonard Fournette\n",
      "300 Dalvin Cook\n",
      "2 Melvin Gordon\n",
      "17 Devonta Freeman\n",
      "2 Jordan Howard\n",
      "300 Christian McCaffery\n",
      "300 LeSean McCoy\n",
      "300 Jerick McKinnon\n",
      "300 Joe Mixon\n",
      "300 Kenyan Drake\n",
      "300 Royce Freeman\n",
      "300 Derrius Guice\n",
      "300 Ronald Jones\n",
      "300 Alex Collins\n",
      "300 Rashaad Penny\n",
      "300 Derrick Henry\n",
      "300 Jay Ajayi\n",
      "50 Marshawn Lynch\n",
      "300 Sony Michel\n",
      "300 Isaiah Crowell\n",
      "300 Lamar Miller\n",
      "97 Tevin Coleman\n",
      "153 Dion Lewis\n",
      "300 Rex Burkhead\n",
      "281 Kerryon Johnson\n",
      "97 Carlos Hyde\n",
      "49 Marlon Mack\n",
      "49 Jamaal Williams\n",
      "153 Duke Johnson\n",
      "49 Tarik Cohen\n",
      "281 Mark Ingram\n",
      "281 Nick Chubb\n",
      "300 Chris Thompson\n",
      "209 Chris Carson\n",
      "153 C.J. Anderson\n",
      "300 Ty Montgomery\n",
      "153 Giovani Bernard\n",
      "97 Latavius Murray\n",
      "281 Jordan Wilkins\n",
      "209 James White\n",
      "49 Theo Riddick\n",
      "209 Devontae Booker\n"
     ]
    }
   ],
   "source": [
    "log_rbs = logReg.predict(currRBTest)\n",
    "for i,j in zip(log_rbs, currRBNames):\n",
    "    print(i,j)"
   ]
  },
  {
   "cell_type": "code",
   "execution_count": 71,
   "metadata": {},
   "outputs": [
    {
     "name": "stdout",
     "output_type": "stream",
     "text": [
      "[['LeVeon Bell', 13.77835363737904], ['Todd Gurley', 26.579400598615162], ['Melvin Gordon', 34.734830549031585], ['Kareem Hunt', 39.760075173497576], ['Alvin Kamara', 42.08870277946928], ['Jordan Howard', 69.90354750510473], ['Saquon Barkley', 73.89017263222259], ['Christian McCaffery', 77.07354239513664], ['Leonard Fournette', 84.49182483525907], ['Ezekiel Elliot', 97.29168871232648], ['Royce Freeman', 99.73810552891841], ['Derrius Guice', 100.22637719055821], ['Ronald Jones', 100.71464885219804], ['Rashaad Penny', 101.69119217547767], ['LeSean McCoy', 102.2167849955632], ['Devonta Freeman', 103.13840582306501], ['Sony Michel', 106.57390879187574], ['Joe Mixon', 108.64754653827534], ['Tevin Coleman', 112.19631833608763], ['C.J. Anderson', 117.60074780025131], ['Kerryon Johnson', 119.75724365615056], ['Lamar Miller', 121.04869390588877], ['Derrick Henry', 124.9022060112666], ['Carlos Hyde', 125.39371741461447], ['Alex Collins', 125.92080023958074], ['Nick Chubb', 126.10477525746806], ['Jerick McKinnon', 129.5103489100073], ['Jay Ajayi', 130.22436296176727], ['Jamaal Williams', 132.2396719577], ['Mark Ingram', 133.16001990284394], ['Isaiah Crowell', 133.46433247246688], ['Jordan Wilkins', 133.91712184370502], ['Kenyan Drake', 138.35038751210774], ['Dion Lewis', 139.58021964139994], ['Marlon Mack', 142.99440987654785], ['Tarik Cohen', 144.32560112073816], ['Duke Johnson', 150.02715864999206], ['Latavius Murray', 156.63536728849874], ['Giovani Bernard', 164.329858915272], ['Theo Riddick', 174.3944716013997], ['Marshawn Lynch', 198.33547107824515], ['Dalvin Cook', 206.93589991609696], ['James White', 213.6793662241447], ['Ty Montgomery', 220.19671621809425], ['Rex Burkhead', 220.23391352989236], ['Chris Thompson', 221.85654658070405], ['Devontae Booker', 222.02764279516393], ['Chris Carson', 235.11328127753546], ['David Johnson', 260.7277552150147]]\n"
     ]
    }
   ],
   "source": [
    "averageProd = []\n",
    "for i,j,h in zip(linear_rbs,ridge_rbs,lasso_rbs):\n",
    "    averageProd.append(float((i*linR2RB+j*ridgeR2RB+h*lassoR2RB)/(linR2RB+ridgeR2RB+lassoR2RB)))\n",
    "\n",
    "combinedAvg = [[i,j] for i,j in zip(currRBNames, averageProd)]\n",
    "\n",
    "sortedAvg = sorted(combinedAvg, key = itemgetter(1))\n",
    "print(sortedAvg)"
   ]
  },
  {
   "cell_type": "code",
   "execution_count": null,
   "metadata": {},
   "outputs": [],
   "source": []
  }
 ],
 "metadata": {
  "kernelspec": {
   "display_name": "Python 3",
   "language": "python",
   "name": "python3"
  },
  "language_info": {
   "codemirror_mode": {
    "name": "ipython",
    "version": 3
   },
   "file_extension": ".py",
   "mimetype": "text/x-python",
   "name": "python",
   "nbconvert_exporter": "python",
   "pygments_lexer": "ipython3",
   "version": "3.6.5"
  }
 },
 "nbformat": 4,
 "nbformat_minor": 2
}
